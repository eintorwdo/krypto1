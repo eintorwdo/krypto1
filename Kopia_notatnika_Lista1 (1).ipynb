{
  "nbformat": 4,
  "nbformat_minor": 0,
  "metadata": {
    "kernelspec": {
      "display_name": "Python 3",
      "language": "python",
      "name": "python3"
    },
    "language_info": {
      "codemirror_mode": {
        "name": "ipython",
        "version": 3
      },
      "file_extension": ".py",
      "mimetype": "text/x-python",
      "name": "python",
      "nbconvert_exporter": "python",
      "pygments_lexer": "ipython3",
      "version": "3.6.8"
    },
    "colab": {
      "name": "Kopia notatnika Lista1.ipynb",
      "provenance": [],
      "collapsed_sections": [
        "oGHdALxnlij6",
        "t1FZLh_mlikD",
        "oZIP2hdOlikG",
        "vbTL30RdlikO"
      ]
    }
  },
  "cells": [
    {
      "cell_type": "markdown",
      "metadata": {
        "id": "mCF4Ea9ylij3"
      },
      "source": [
        "# Lista 1 (9 pkt.) Termin: 22.10.2020r."
      ]
    },
    {
      "cell_type": "code",
      "metadata": {
        "id": "_JqdPyQblij3"
      },
      "source": [
        "import string\n",
        "import matplotlib.pyplot as plt\n",
        "import numpy as np"
      ],
      "execution_count": 2,
      "outputs": []
    },
    {
      "cell_type": "markdown",
      "metadata": {
        "id": "oGHdALxnlij6"
      },
      "source": [
        "## Zadanie 1 (2 pkt.)"
      ]
    },
    {
      "cell_type": "markdown",
      "metadata": {
        "id": "KvsJP49Flij7"
      },
      "source": [
        "Zaimplementuj szyfr Cezara. Napisz funkcję $\\textit{Cezar(tekst, klucz)}$ tak aby jako argumenty przyjmowała tekst do zaszysfrowania oraz klucz a zwracała zaszyfrowany tekst. Funkcja ta dostając jako argumenty zaszyfrowany tekst oraz -klucz (klucz, ktorym zaszyfrowano tekst ze znakiem minus) będzie zwracała odszyfrowany tekst. Funkcja powinna przejść testy, czyli powinno dostać się 8 razy $\\textit{True}$.\n",
        "\n",
        "Pamiętaj o polskich znakach. Szyfrujemy tylko litery, natomiast cyfry, znaki interpunkcyjne i białe znaki zostają bez zmian. Wielkie litery po zaszyfrowaniu są również wielkie. Użyj poniższego alfabetu."
      ]
    },
    {
      "cell_type": "code",
      "metadata": {
        "id": "kG_qr3mylij7"
      },
      "source": [
        "alfabet=['a','ą', 'b', 'c', 'ć', 'd', 'e', 'ę', 'f', 'g', 'h', 'i', 'j', 'k', 'l', 'ł',\n",
        "             'm', 'n', 'ń', 'o','ó', 'p', 'q','r', 's', 'ś', 't', 'u','v', 'w', 'x','y', 'z','ź','ż']"
      ],
      "execution_count": null,
      "outputs": []
    },
    {
      "cell_type": "markdown",
      "metadata": {
        "id": "IQXelmj9lij9"
      },
      "source": [
        "Przy implementacji mogą być przydatne takie elementy biblioteki string jak: $\\textit{string.punctuation, string.whitespace, string.digits, upper(), lower(), isupper()}$."
      ]
    },
    {
      "cell_type": "code",
      "metadata": {
        "id": "nkokxDnVlij9"
      },
      "source": [
        "def Cezar(tekst,klucz):\n",
        "  output = \"\"\n",
        "  for char in tekst:\n",
        "    if (char in string.punctuation or char in string.whitespace or char in string.digits):\n",
        "      output += char\n",
        "    elif (char.lower() in alfabet):\n",
        "      letterIndex = alfabet.index(char.lower())\n",
        "      newLetter = alfabet[(letterIndex + klucz) % len(alfabet)]\n",
        "      if char.isupper():\n",
        "        newLetter = newLetter.upper() \n",
        "      output += newLetter\n",
        "  return output"
      ],
      "execution_count": null,
      "outputs": []
    },
    {
      "cell_type": "code",
      "metadata": {
        "id": "vt5KcoKwlikA",
        "outputId": "9f7a681e-569d-402a-a507-cb7ad0c44e82",
        "colab": {
          "base_uri": "https://localhost:8080/",
          "height": 153
        }
      },
      "source": [
        "print(Cezar('Ala ma kota.',3)=='Cnc oc mqwc.')\n",
        "print(Cezar('Ala ma kota.',20)=='Óżó ąó źćió.')\n",
        "print(Cezar('Ala ma 2 koty.',5)=='Dod pd 2 ńsyą.')\n",
        "print(Cezar('Daremne żale, próżny trud,\\nBezsilne złorzeczenia!\\nPrzeżytych kształtów żaden cud\\nNie wróci do istnienia.',7)\n",
        "                  =='Jęxkrsk eępk, vxuesc źxżj,\\nGkćyńpsk ćqtxćkhćksńę!\\nVxćkecźchn óyćźęqźuą eęjks hżj\\nSńk ąxuhń jt ńyźsńksńę.')\n",
        "print(Cezar('Cnc oc mqwc.',-3)=='Ala ma kota.')\n",
        "print(Cezar('Óżó ąó źćió.',-20)=='Ala ma kota.')\n",
        "print(Cezar('Dod pd 2 ńsyą.',-5)=='Ala ma 2 koty.')\n",
        "print(Cezar('Jęxkrsk eępk, vxuesc źxżj,\\nGkćyńpsk ćqtxćkhćksńę!\\nVxćkecźchn óyćźęqźuą eęjks hżj\\nSńk ąxuhń jt ńyźsńksńę.',-7)\n",
        "                  =='Daremne żale, próżny trud,\\nBezsilne złorzeczenia!\\nPrzeżytych kształtów żaden cud\\nNie wróci do istnienia.')"
      ],
      "execution_count": null,
      "outputs": [
        {
          "output_type": "stream",
          "text": [
            "True\n",
            "True\n",
            "True\n",
            "True\n",
            "True\n",
            "True\n",
            "True\n",
            "True\n"
          ],
          "name": "stdout"
        }
      ]
    },
    {
      "cell_type": "markdown",
      "metadata": {
        "id": "t1FZLh_mlikD"
      },
      "source": [
        "## Zadanie 2 (1 pkt.)"
      ]
    },
    {
      "cell_type": "markdown",
      "metadata": {
        "id": "f9y3lSAclikD"
      },
      "source": [
        "Wiedząć, że poniższy tekst zaszyfrowano metodą Cezara, odszyfruj go metodą \"brute force\". Co to za cytat?"
      ]
    },
    {
      "cell_type": "code",
      "metadata": {
        "id": "vMDXwI83likE",
        "outputId": "4dc2fa6c-ca4d-4d0f-a59c-eb93608656b1",
        "colab": {
          "base_uri": "https://localhost:8080/",
          "height": 595
        }
      },
      "source": [
        "tekst='Hćcrek okyź hćęy? Okzpń sńóź rsńk t źt sńk vcźę, ąńkr. Okzpń vcźęofhkrż żyńqżol ącźqżręhćci, sńk ąńkr.'\n",
        "\n",
        "for i in range(1, len(alfabet)):\n",
        "  print(Cezar(tekst, i * -1))"
      ],
      "execution_count": null,
      "outputs": [
        {
          "output_type": "stream",
          "text": [
            "Gcbqdj ńjxz gcex? Ńjyón rnoz qrnj ś zś rnj ubze, anjq. Ńjyón ubzeńęgjqź źxnpźńk abzpźqegcbh, rnj anjq.\n",
            "Fbąpći niwy fbdw? Nixom qmńy pqmi s ys qmi tąyd, żmip. Nixom tąydnefipz zwmóznj żąyózpdfbąg, qmi żmip.\n",
            "Ęąaóch mhvx ęąćv? Mhwńł płnx ópłh r xr płh śaxć, źłhó. Mhwńł śaxćmdęhóy yvłoymi źaxoyóćęąaf, płh źłhó.\n",
            "Eażobg łguw eacu? Łgvnl ólmw oólg q wq ólg sżwc, zlgo. Łgvnl sżwcłćegox xulńxłh zżwńxoceażę, ólg zlgo.\n",
            "Dżźńąf lftv dżbt? Lfumk okłv ńokf p vp okf rźvb, ykfń. Lfumk rźvblcdfńw wtknwlg yźvnwńbdżźe, okf ykfń.\n",
            "Ćźznaę kęśu ćźąś? Kętłj ńjlu nńję ó uó ńję qzuą, xjęn. Kętłj qzuąkbćęnv vśjmvkf xzumvnąćźzd, ńję xjęn.\n",
            "Czymże jest czas? Jeśli nikt mnie o to nie pyta, wiem. Jeśli pytającemu usiłuję wytłumaczyć, nie wiem.\n",
            "Byxłźd idrś byżr? Idskh mhjś łmhd ń śń mhd óxśż, vhdł. Idskh óxśżiabdłt trhltie vxśltłżbyxc, mhd vhdł.\n",
            "Ąxwlzć hćqs ąxźq? Hćrjg łgis lłgć n sn łgć owsź, ugćl. Hćrjg owsźhżąćlś śqgkśhd uwskślźąxwb, łgć ugćl.\n",
            "Awvkyc gcpr awzp? Gcqif lfhr klfc m rm lfc ńvrz, tfck. Gcqif ńvrzgźacks spfjsgć tvrjskzawvą, lfc tfck.\n",
            "Żvujxb fbóq żvyó? Fbphę kęgq jkęb ł qł kęb nuqy, śębj. Fbphę nuqyfzżbjr róęirfc śuqirjyżvua, kęb śębj.\n",
            "Źutiwą ęąop źuxo? Ęąóge jefp ijeą l pl jeą mtpx, seąi. Ęąóge mtpxęyźąiq qoehqęb stphqixźutż, jeą seąi.\n",
            "Ztśhva eańó ztwń? Eaofd idęó hida k ók ida łśów, rdah. Eaofd łśówexzahp pńdgpeą rśógphwztśź, ida rdah.\n",
            "Yśsguż dżno yśvn? Dżńęć hćeo ghćż j oj hćż lsov, qćżg. Dżńęć lsovdwyżgó ónćfóda qsofógvyśsz, hćż qćżg.\n",
            "Xsrftź ćźmń xsum? Ćźnec gcdń fgcź i ńi gcź krńu, pcźf. Ćźnec krńućvxźfo omcęoćż prńęofuxsry, gcź pcźf.\n",
            "Wrqęśz człn wrtł? Czmdb fbćn ęfbz h nh fbz jqnt, óbzę. Czmdb jqntcuwzęń ńłbeńcź óqneńętwrqx, fbz óbzę.\n",
            "Vqpesy bylm vqśl? Byłćą ęącm eęąy g mg ęąy ipmś, oąye. Byłćą ipmśbtvyen nlądnbz opmdneśvqpw, ęąy oąye.\n",
            "Upódrx ąxkł upsk? Ąxlca eabł deax f łf eax hółs, ńaxd. Ąxlca hółsąśuxdm mkaćmąy ńółćmdsupóv, eax ńaxd.\n",
            "Tóoćqw awjl tórj? Awkbż dżąl ćdżw ę lę dżw golr, nżwć. Awkbż golrastwćł łjżcłax nolcłćrtóou, dżw nżwć.\n",
            "Śońcpv żvik śoqi? Żvjąź ćźak cćźv e ke ćźv fńkq, mźvc. Żvjąź fńkqżrśvcl liźblżw mńkblcqśońt, ćźv mźvc.\n",
            "Sńnbóu źuhj sńph? Źuiaz czżj bczu d jd czu ęnjp, łzub. Źuiaz ęnjpźqsubk khząkźv łnjąkbpsńnś, czu łzub.\n",
            "Rnmąot ztgi rnóg? Zthży byźi ąbyt ć ić byt emió, lytą. Zthży emiózprtąj jgyajzu lmiająórnms, byt lytą.\n",
            "Qmłańś yśfh qmof? Yśgźx ąxzh aąxś c hc ąxś dłho, kxśa. Yśgźx dłhoyóqśai ifxżiyt kłhżiaoqmłr, ąxś kxśa.\n",
            "Płlżns xsęg płńę? Xsfzw awyg żaws b gb aws ćlgń, jwsż. Xsfzw ćlgńxopsżh hęwźhxś jlgźhżńpłlq, aws jwsż.\n",
            "Ólkźmr wref ólne? Wręyv żvxf źżvr ą fą żvr ckfn, ivrź. Wręyv ckfnwńórźg gevzgws ikfzgźnólkp, żvr ivrź.\n",
            "Okjzłq vqdę okmd? Vqexu źuwę zźuq a ęa źuq bjęm, huqz. Vqexu bjęmvnoqzf fduyfvr hjęyfzmokjó, źuq huqz.\n",
            "Ńjiylp upće ńjłć? Updwt ztve yztp ż eż ztp ąieł, gtpy. Updwt ąiełumńpyę ęćtxęuq giexęyłńjio, ztp gtpy.\n",
            "Nihxkó tócd nilc? Tóćvś yśud xyśó ź dź yśó ahdl, fśóx. Tóćvś ahdltłnóxe ecśwetp fhdwexlnihń, yśó fśóx.\n",
            "Mhgwjo śobć mhkb? Śocus xstć wxso z ćz xso żgćk, ęsow. Śocus żgćkślmowd dbsvdśó ęgćvdwkmhgn, xso ęsow.\n",
            "Łgfviń sńąc łgją? Sńbtr wrśc vwrń y cy wrń źfcj, erńv. Sńbtr źfcjskłńvć ćąrućso efcućvjłgfm, wrń erńv.\n",
            "Lfęuhn rnab lfia? Rnąśq vqsb uvqn x bx vqn zębi, dqnu. Rnąśq zębirjlnuc caqtcrń dębtcuilfęł, vqn dqnu.\n",
            "Kęetgm qmżą kęhż? Qmasp uprą tupm w ąw upm yeąh, ćpmt. Qmasp yeąhqikmtb bżpśbqn ćeąśbthkęel, upm ćpmt.\n",
            "Jedśfł płźa jegź? Płżró tóqa śtół v av tół xdag, cółś. Płżró xdagphjłśą ąźósąpm cdasąśgjedk, tół cółś.\n",
            "Idćsęl ólzż idfz? Ólźqo śopż sśol u żu śol wćżf, bols. Ólźqo wćżfógilsa azoraół bćżrasfidćj, śol bols.\n"
          ],
          "name": "stdout"
        }
      ]
    },
    {
      "cell_type": "markdown",
      "metadata": {
        "id": "7PT_61aN1tsS"
      },
      "source": [
        "Cytat: *'Czymże jest czas? Jeśli nikt mnie o to nie pyta, wiem. Jeśli pytającemu usiłuję wytłumaczyć, nie wiem.'*"
      ]
    },
    {
      "cell_type": "markdown",
      "metadata": {
        "id": "oZIP2hdOlikG"
      },
      "source": [
        "## Zadanie 3 (2 pkt.)"
      ]
    },
    {
      "cell_type": "markdown",
      "metadata": {
        "id": "1SaElCm3likG"
      },
      "source": [
        "Plik $\\textit{'ksiazka1.txt'}$ zawiera tekst pewnej książki zaszyfrowany metodą Cezara. Dokonaj analizy statystycznej liter i na tej podstawie znajdź klucz oraz odszyfruj tekst. Jaka to książka?\n",
        "\n",
        "Do wczytania pliku mozesz użyć poniższego kodu."
      ]
    },
    {
      "cell_type": "code",
      "metadata": {
        "id": "P-7ZD03tlikG"
      },
      "source": [
        "plik=open('ksiazka1.txt')\n",
        "ksiazka=plik.read()\n",
        "plik.close()"
      ],
      "execution_count": null,
      "outputs": []
    },
    {
      "cell_type": "markdown",
      "metadata": {
        "id": "Ar3z3LxPlikJ"
      },
      "source": [
        "Słownik czestoliwosc zawiera czestotliwości występowania liter w języku polskim."
      ]
    },
    {
      "cell_type": "code",
      "metadata": {
        "id": "Au6Y-eSklikJ"
      },
      "source": [
        "czestotliwosc={'a':0.0891,'ą':0.0099, 'b':0.0147, 'c':0.0396, 'ć':0.004, 'd':0.0325, 'e':0.0766, 'ę':0.0111,\n",
        "            'f':0.003, 'g':0.0142, 'h':0.0108, 'i':0.0821, 'j':0.0228, 'k':0.0351, 'l':0.021, 'ł':0.0182,'m':0.028,\n",
        "            'n':0.0552, 'ń':0.002, 'o':0.0775,'ó':0.0085, 'p':0.0313, 'q':0.0014, 'r':0.0469, 's':0.0432,'ś':0.0066,\n",
        "            't':0.0398, 'u':0.025, 'v': 0.0004, 'w':0.0465 ,'x':0.0002,'y':0.0376, 'z':0.0564,'ź':0.0006,'ż':0.0083}"
      ],
      "execution_count": null,
      "outputs": []
    },
    {
      "cell_type": "code",
      "metadata": {
        "id": "xViutKH3likM",
        "outputId": "c6c1d0ae-f6c3-44df-cdf0-a417d9247297",
        "colab": {
          "base_uri": "https://localhost:8080/",
          "height": 282
        }
      },
      "source": [
        "plt.bar(czestotliwosc.keys(),czestotliwosc.values())"
      ],
      "execution_count": null,
      "outputs": [
        {
          "output_type": "execute_result",
          "data": {
            "text/plain": [
              "<BarContainer object of 35 artists>"
            ]
          },
          "metadata": {
            "tags": []
          },
          "execution_count": 10
        },
        {
          "output_type": "display_data",
          "data": {
            "image/png": "[encoded data removed]",
            "text/plain": [
              "<Figure size 432x288 with 1 Axes>"
            ]
          },
          "metadata": {
            "tags": [],
            "needs_background": "light"
          }
        }
      ]
    },
    {
      "cell_type": "markdown",
      "metadata": {
        "id": "VjEI7zOHDfHF"
      },
      "source": [
        "Trzeba stworzyć histogram częstotliwości liter w książce:"
      ]
    },
    {
      "cell_type": "code",
      "metadata": {
        "id": "GVp9t5598GqR",
        "outputId": "4159e492-d30d-4017-a941-7f956a107f9d",
        "colab": {
          "base_uri": "https://localhost:8080/",
          "height": 282
        }
      },
      "source": [
        "letters = {}\n",
        "lettersFreq = {}\n",
        "bookStripped = \"\"\n",
        "polishAlphabet = ['a','ą','b','c','ć','d','e','ę','f','g',\n",
        "                  'h','i','j','k','l','m','n','ń','o','ó',\n",
        "                  'p','q','r','s','ś','t','u','v','w','x',\n",
        "                  'y','z','ź','ż']\n",
        "\n",
        "for i in ksiazka:\n",
        "  letter = i.lower()\n",
        "  bookStripped += letter\n",
        "  if letter in alfabet:\n",
        "    if letter in letters:\n",
        "      letters[letter] += 1\n",
        "    else:\n",
        "      letters[letter] = 1\n",
        "\n",
        "for letter in polishAlphabet:\n",
        "  lettersFreq[letter] = letters[letter]/len(bookStripped)\n",
        "\n",
        "plt.bar(lettersFreq.keys(),lettersFreq.values())"
      ],
      "execution_count": null,
      "outputs": [
        {
          "output_type": "execute_result",
          "data": {
            "text/plain": [
              "<BarContainer object of 34 artists>"
            ]
          },
          "metadata": {
            "tags": []
          },
          "execution_count": 12
        },
        {
          "output_type": "display_data",
          "data": {
            "image/png": "[encoded data removed]",
            "text/plain": [
              "<Figure size 432x288 with 1 Axes>"
            ]
          },
          "metadata": {
            "tags": [],
            "needs_background": "light"
          }
        }
      ]
    },
    {
      "cell_type": "markdown",
      "metadata": {
        "id": "QUOjpA7cG9aN"
      },
      "source": [
        "Analizując wzrokowo, widać że histogram częstości liter w książce jest przesunięty o 4 litery w prawo w porównaniu z częstotliwością liter w Języku polskim."
      ]
    },
    {
      "cell_type": "code",
      "metadata": {
        "id": "ppcHGEFhHWVC",
        "outputId": "e6922d3a-8e0f-4e34-a70a-8ba288862d7f",
        "colab": {
          "base_uri": "https://localhost:8080/",
          "height": 224
        }
      },
      "source": [
        "decipheredBook = Cezar(ksiazka, -4)\n",
        "for i in range(1000):\n",
        "  print(decipheredBook[i], end='')"
      ],
      "execution_count": null,
      "outputs": [
        {
          "output_type": "stream",
          "text": [
            "Tom I\n",
            "\n",
            "\n",
            "\n",
            "Wstęp\n",
            "\n",
            "W północno-wschodnim kącie Afryki leży Egipt, ojczyzna najstarszej cywilizacji w świecie. Przed trzema, czterema, a nawet pięcioma tysiącami lat, kiedy w środkowej Europie odziani w surowe skóry barbarzyńcy kryli się po jaskiniach, Egipt - już posiadał wysoką organizację społeczną, rolnictwo, rzemiosła i literaturę. Nade wszystko zaś wykonywał olbrzymie prace inżynierskie i wznosił kolosalne budowle, których szczątki budzą podziw w technikach nowożytnych.\n",
            "\n",
            "Egipt - jest to żyzny wąwóz między pustynią Libijską i Arabską. Głębokość jego wynosi kilkaset metrów, długość sto trzydzieści mil, średnia szerokość zaledwo milę. Od zachodu - łagodne, ale nagie wzgórza libijskie, od wschodu strome i popękane skały arabskie są ścianami tego korytarza, którego dnem płynie rzeka - Nil.\n",
            "\n",
            "Z biegiem rzeki, na północ, ściany wąwozu zniżają się, a w odległości dwudziestu pięciu mil od Morza Śródziemnego nagle rozchodzą się, i Nil, zamiast płynąć ciasnym korytarzem, rozlewa się kilkoma ramio"
          ],
          "name": "stdout"
        }
      ]
    },
    {
      "cell_type": "markdown",
      "metadata": {
        "id": "Qg6zK8rjEGTX"
      },
      "source": [
        "Zdeszyfrowaną książką jest \"Faraon\" Bolesława Prusa"
      ]
    },
    {
      "cell_type": "markdown",
      "metadata": {
        "id": "vbTL30RdlikO"
      },
      "source": [
        "## Zadanie 4 (2 pkt.)"
      ]
    },
    {
      "cell_type": "markdown",
      "metadata": {
        "id": "IevLsZhilikO"
      },
      "source": [
        "Napisz dwie funkcje, szyfrującą i deszyfrującą, dla szyfru Vignere'a. Funkcja $\\textit{Vignere_zaszyfruj(tekst, klucz)}$ przyumuje jako argumenty tekst do zaszyfrowania oraz klucz w postaci słowa. Podobnie funkcja $\\textit{Vignere_odszyfruj(tekst, klucz)}$ przyjmuje jako argumenty tekst zaszyfrowany oraz klucz w postaci słowa. Może być przydatne skorzystanie z zamiany liter na liczby (tzn. na liczby okreslające pozycję litery w alfabecie):"
      ]
    },
    {
      "cell_type": "code",
      "metadata": {
        "id": "v87_H97llikO"
      },
      "source": [
        "liczb_do_lit=dict()\n",
        "lit_do_liczb=dict()\n",
        "for i,l in enumerate(alfabet):\n",
        "    liczb_do_lit[i]=l\n",
        "    lit_do_liczb[l]=i"
      ],
      "execution_count": null,
      "outputs": []
    },
    {
      "cell_type": "code",
      "metadata": {
        "id": "y0-N9b3cPTzg"
      },
      "source": [
        "# def getPaddedKey(klucz, textLetters):\n",
        "#   paddedKey = \"\"\n",
        "#   if (len(klucz) > len(textLetters)):\n",
        "#       paddedKey = klucz[0:len(textLetters)]\n",
        "#   elif (len(klucz) < len(textLetters)):\n",
        "#     for i in range(len(textLetters)):\n",
        "#       paddedKey += klucz[i % len(klucz)]\n",
        "#   return paddedKey\n",
        "\n",
        "def getTextLetters(tekst):\n",
        "  textLetters = ''.join([i for i in tekst if not i.isdigit() and not i in string.whitespace and not i in string.punctuation])\n",
        "  return textLetters"
      ],
      "execution_count": null,
      "outputs": []
    },
    {
      "cell_type": "code",
      "metadata": {
        "id": "nds35BvNlikQ"
      },
      "source": [
        "def Vignere_zaszyfruj(tekst,klucz):\n",
        "    output = \"\"\n",
        "    textLetters = getTextLetters(tekst)\n",
        "    # paddedKey = getPaddedKey(klucz, textLetters)\n",
        "\n",
        "    index = 0\n",
        "    for char in tekst:\n",
        "      if (char in string.punctuation or char in string.whitespace or char in string.digits):\n",
        "        output += char\n",
        "      elif (char.lower() in alfabet):\n",
        "        letterIndex = lit_do_liczb[char.lower()]\n",
        "        cipherIndex = lit_do_liczb[klucz[index % len(klucz)].lower()]\n",
        "        cipheredIndex = (letterIndex + cipherIndex) % len(alfabet)\n",
        "        cipheredLetter = liczb_do_lit[cipheredIndex]\n",
        "        if (char.isupper()):\n",
        "          cipheredLetter = cipheredLetter.upper()\n",
        "        output += cipheredLetter\n",
        "        index = index + 1\n",
        "    return output"
      ],
      "execution_count": null,
      "outputs": []
    },
    {
      "cell_type": "code",
      "metadata": {
        "id": "RAxb5trllikS"
      },
      "source": [
        "def Vignere_odszyfruj(tekst,klucz):\n",
        "    output = \"\"\n",
        "    # paddedKey = \"\"\n",
        "    textLetters = getTextLetters(tekst)\n",
        "    # paddedKey = getPaddedKey(klucz, textLetters)\n",
        "\n",
        "    index = 0\n",
        "    for char in tekst:\n",
        "      if (char in string.punctuation or char in string.whitespace or char in string.digits):\n",
        "        output += char\n",
        "      elif (char.lower() in alfabet):\n",
        "        cipheredIndex = lit_do_liczb[char.lower()]\n",
        "        cipherIndex = lit_do_liczb[klucz[index % len(klucz)].lower()]\n",
        "        decipheredIndex = (cipheredIndex - cipherIndex) % len(alfabet)\n",
        "        decipheredLetter = liczb_do_lit[decipheredIndex]\n",
        "        if (char.isupper()):\n",
        "          decipheredLetter = decipheredLetter.upper()\n",
        "        output += decipheredLetter\n",
        "        index = index + 1\n",
        "    return output"
      ],
      "execution_count": null,
      "outputs": []
    },
    {
      "cell_type": "code",
      "metadata": {
        "id": "XtIIa4TFlikU",
        "outputId": "0f62035b-65f4-4c1e-813e-3e791c58d0bd",
        "colab": {
          "base_uri": "https://localhost:8080/",
          "height": 153
        }
      },
      "source": [
        "print(Vignere_zaszyfruj('Ala ma kota.','ela')=='Eva ql kśda.')\n",
        "print(Vignere_zaszyfruj('Ala ma kota.','tygrys')=='Thg ćy bhqg.')\n",
        "print(Vignere_zaszyfruj('Ala ma 2 koty.','indywidualistyczny')=='Iyd jw 2 ssńy.')\n",
        "print(Vignere_zaszyfruj('Daremne żale, próżny trud,\\nBezsilne złorzeczenia!\\nPrzeżytych kształtów żaden cud\\nNie wróci do istnienia.','asnyk')\n",
        "                  =='Dsdbwnx myue, hdmjnó fodd,\\nTrvbicżb hłfdvocprksa!\\nHdvożófumh bevćaćfmę żsqbx cmq\\nKse ńdmmi wą ębtevbxis.')\n",
        "print(Vignere_odszyfruj('Eva ql kśda.','ela')=='Ala ma kota.')\n",
        "print(Vignere_odszyfruj('Thg ćy bhqg.','tygrys')=='Ala ma kota.')\n",
        "print(Vignere_odszyfruj('Iyd jw 2 ssńy.','indywidualistyczny')=='Ala ma 2 koty.')\n",
        "print(Vignere_odszyfruj('Dsdbwnx myue, hdmjnó fodd,\\nTrvbicżb hłfdvocprksa!\\nHdvożófumh bevćaćfmę żsqbx cmq\\nKse ńdmmi wą ębtevbxis.','asnyk')\n",
        "                  =='Daremne żale, próżny trud,\\nBezsilne złorzeczenia!\\nPrzeżytych kształtów żaden cud\\nNie wróci do istnienia.')"
      ],
      "execution_count": null,
      "outputs": [
        {
          "output_type": "stream",
          "text": [
            "True\n",
            "True\n",
            "True\n",
            "True\n",
            "True\n",
            "True\n",
            "True\n",
            "True\n"
          ],
          "name": "stdout"
        }
      ]
    },
    {
      "cell_type": "markdown",
      "metadata": {
        "id": "jI5bS4PxlikW"
      },
      "source": [
        "## Zadanie 5 (2 pkt.)"
      ]
    },
    {
      "cell_type": "markdown",
      "metadata": {
        "id": "_XHKcYH9likX"
      },
      "source": [
        "Plik $\\textit{'ksiazka2.txt'}$ zawiera tekst pewnej książki zaszyfrowany metodą Vignere'a. Dokonaj analizy statystycznej liter i na tej podstawie znajdź klucz oraz odszyfruj tekst. Jaka to książka?\n",
        "\n",
        "Do wczytania pliku mozesz użyć poniższego kodu."
      ]
    },
    {
      "cell_type": "code",
      "metadata": {
        "id": "vP3iomP6likX"
      },
      "source": [
        "plik=open('ksiazka2.txt')\n",
        "ksiazka=plik.read()\n",
        "plik.close()"
      ],
      "execution_count": null,
      "outputs": []
    },
    {
      "cell_type": "markdown",
      "metadata": {
        "id": "IBf3DkabyIiI"
      },
      "source": [
        "Najpierw musimy pozbawić książkę odstępów, znaków interpunkcyjnych i cyfr:"
      ]
    },
    {
      "cell_type": "code",
      "metadata": {
        "id": "u-4LuhFtyXhN"
      },
      "source": [
        "bookLetters = getTextLetters(ksiazka)\n",
        "f = open(\"ksiazka2litery.txt\", \"w\")\n",
        "f.write(bookLetters)\n",
        "f.close()"
      ],
      "execution_count": null,
      "outputs": []
    },
    {
      "cell_type": "markdown",
      "metadata": {
        "id": "hEnJfx8ZzSsE"
      },
      "source": [
        "Następnie, w zaszyfrowanych literach szukamy regularnie powtarzających się ciągów znaków. Ja będę szukał kilku ciągów 3 i 4-literowych. Jednym z takich ciągów jest \"tóp\". Kolejnym jest \"źśt\". Odległość pomiędzy pierwszymi dwoma wystąpieniami \"tóp\" wynosi 884. Dla \"źśt\" jest to 504. Największy wspólny dzielnik 884 i 502 wynosi 4. Możemy więc domniemywać, że długość klucza wynosi 4, 2, lub 1. 2 i 1 wydają się nierealistycznie krótkie, dlatego najpierw sprawdzę wartość 4. "
      ]
    },
    {
      "cell_type": "markdown",
      "metadata": {
        "id": "EtIqJegv3FX4"
      },
      "source": [
        "Aby sprawdzić, czy klucz faktycznie ma długość 4, ze wszystkich liter książki wybiorę co czwartą i stworzę histogram częstotliwości liter w tym podzbiorze."
      ]
    },
    {
      "cell_type": "code",
      "metadata": {
        "id": "DN5sEzET69Ma"
      },
      "source": [
        "def getHistogram(bookLetters, n, j):\n",
        "  letters = {}\n",
        "  frequency = {}\n",
        "  numOfLetters = 0\n",
        "\n",
        "  for i in range(len(bookLetters)):\n",
        "    if (i % n == j):\n",
        "      letter = bookLetters[i].lower()\n",
        "      if letter in alfabet:\n",
        "        numOfLetters = numOfLetters + 1\n",
        "        if letter in letters:\n",
        "          letters[letter] += 1\n",
        "        else:\n",
        "          letters[letter] = 1\n",
        "\n",
        "  for letter in polishAlphabet:\n",
        "    if (letter in letters.keys()):\n",
        "      frequency[letter] = letters[letter]/numOfLetters\n",
        "    else:\n",
        "      frequency[letter] = 0\n",
        "\n",
        "  plt.bar(frequency.keys(),frequency.values())"
      ],
      "execution_count": null,
      "outputs": []
    },
    {
      "cell_type": "markdown",
      "metadata": {
        "id": "kz4PdXeP2m_s"
      },
      "source": [
        "Przypomnijmy histogram częstotliwości występowania liter w Języku polskim:"
      ]
    },
    {
      "cell_type": "code",
      "metadata": {
        "id": "-b1Go89-2t8F",
        "outputId": "84b68449-2687-4d76-8e24-bf75de64531b",
        "colab": {
          "base_uri": "https://localhost:8080/",
          "height": 282
        }
      },
      "source": [
        "plt.bar(czestotliwosc.keys(),czestotliwosc.values())"
      ],
      "execution_count": null,
      "outputs": [
        {
          "output_type": "execute_result",
          "data": {
            "text/plain": [
              "<BarContainer object of 35 artists>"
            ]
          },
          "metadata": {
            "tags": []
          },
          "execution_count": 24
        },
        {
          "output_type": "display_data",
          "data": {
            "image/png": "[encoded data removed]",
            "text/plain": [
              "<Figure size 432x288 with 1 Axes>"
            ]
          },
          "metadata": {
            "tags": [],
            "needs_background": "light"
          }
        }
      ]
    },
    {
      "cell_type": "code",
      "metadata": {
        "id": "456rNAVF3Xtw",
        "outputId": "589aa4ab-5c48-4158-930c-cd700c56f05e",
        "colab": {
          "base_uri": "https://localhost:8080/",
          "height": 265
        }
      },
      "source": [
        "getHistogram(bookLetters, 4, 0)"
      ],
      "execution_count": null,
      "outputs": [
        {
          "output_type": "display_data",
          "data": {
            "image/png": "[encoded data removed]",
            "text/plain": [
              "<Figure size 432x288 with 1 Axes>"
            ]
          },
          "metadata": {
            "tags": [],
            "needs_background": "light"
          }
        }
      ]
    },
    {
      "cell_type": "markdown",
      "metadata": {
        "id": "9mx6874B5vto"
      },
      "source": [
        "Jak widać, histogram przypomina histogram liter w Języku polskim przesunięty w prawo o 9, więc możemy stwierdzić, iż długość klucza wynosi 4, a pierwsza litera klucza to \"g\"."
      ]
    },
    {
      "cell_type": "markdown",
      "metadata": {
        "id": "OYznnmMZ8ROw"
      },
      "source": [
        "Teraz histogram dla co 4 litery zaczynając od i=1:"
      ]
    },
    {
      "cell_type": "code",
      "metadata": {
        "id": "3AzRyNzn8ZT4",
        "outputId": "e1618a4a-32ee-45cd-9fea-2829f6592214",
        "colab": {
          "base_uri": "https://localhost:8080/",
          "height": 265
        }
      },
      "source": [
        "getHistogram(bookLetters, 4, 1)"
      ],
      "execution_count": null,
      "outputs": [
        {
          "output_type": "display_data",
          "data": {
            "image/png": "[encoded data removed]",
            "text/plain": [
              "<Figure size 432x288 with 1 Axes>"
            ]
          },
          "metadata": {
            "tags": [],
            "needs_background": "light"
          }
        }
      ]
    },
    {
      "cell_type": "markdown",
      "metadata": {
        "id": "oi5kGY6wBy7Q"
      },
      "source": [
        "Druga litera klucza to \"l\""
      ]
    },
    {
      "cell_type": "code",
      "metadata": {
        "id": "RofRkLbjFljC"
      },
      "source": [
        ""
      ],
      "execution_count": null,
      "outputs": []
    },
    {
      "cell_type": "code",
      "metadata": {
        "id": "QP1A76wkCAEH",
        "outputId": "ae9fb328-e1c3-4a30-f965-2d39bdfeb925",
        "colab": {
          "base_uri": "https://localhost:8080/",
          "height": 265
        }
      },
      "source": [
        "getHistogram(bookLetters, 4, 2)"
      ],
      "execution_count": null,
      "outputs": [
        {
          "output_type": "display_data",
          "data": {
            "image/png": "[encoded data removed]",
            "text/plain": [
              "<Figure size 432x288 with 1 Axes>"
            ]
          },
          "metadata": {
            "tags": [],
            "needs_background": "light"
          }
        }
      ]
    },
    {
      "cell_type": "markdown",
      "metadata": {
        "id": "2fftazeGCOae"
      },
      "source": [
        "Trzecia litera klucza to \"o\""
      ]
    },
    {
      "cell_type": "code",
      "metadata": {
        "id": "sQ-SLpoOCglX",
        "outputId": "350c9773-b516-481b-8ef6-2098e69f670c",
        "colab": {
          "base_uri": "https://localhost:8080/",
          "height": 265
        }
      },
      "source": [
        "getHistogram(bookLetters, 4, 3)"
      ],
      "execution_count": null,
      "outputs": [
        {
          "output_type": "display_data",
          "data": {
            "image/png": "[encoded data removed]",
            "text/plain": [
              "<Figure size 432x288 with 1 Axes>"
            ]
          },
          "metadata": {
            "tags": [],
            "needs_background": "light"
          }
        }
      ]
    },
    {
      "cell_type": "markdown",
      "metadata": {
        "id": "jtQNZOVfCkSK"
      },
      "source": [
        "Czwarta litera klucza to \"b\".\n",
        "Znając cały klucz, można odszyfrować tekst:"
      ]
    },
    {
      "cell_type": "code",
      "metadata": {
        "id": "kSna5WAOCt1_",
        "outputId": "d19930f4-f7d1-4fa1-cf04-da85294a9aa4",
        "colab": {
          "base_uri": "https://localhost:8080/",
          "height": 156
        }
      },
      "source": [
        "decipheredBook = Vignere_odszyfruj(ksiazka, \"glob\")\n",
        "\n",
        "for i in range(1000):\n",
        "  print(decipheredBook[i], end='')"
      ],
      "execution_count": null,
      "outputs": [
        {
          "output_type": "stream",
          "text": [
            "Rozdział I. Phileas Fogg, zachwycony Obieżyświatem, przyjmuje go do służby\n",
            "\n",
            "W roku 1872 dom pod numerem 7 przy Saville Row, Burlington Gardens, w którym w roku 1814 zmarł Sheridan, był zamieszkany przez Phileasa Fogga, członka londyńskiego klubu \"Reforma\", osobistość wybitną i wielce oryginalną.\n",
            "\n",
            "Będąc synem słynnego mówcy angielskiego, Phileas Fogg był istotą zagadkową, o której, prócz tego, że odznaczał się elegancją i urodą, nic więcej nie wiedziano. Mówiono, że jest podobny do Byrona, naturalnie tylko z budowy głowy. Był to Byron z wąsami i faworytami; Byron niepodlegający żadnym cierpieniom, który mógłby żyć sto lat, zupełnie się nie starzejąc.\n",
            "\n",
            "Anglik od pierwszego rzutu oka, Phileas Fogg nie wyglądał jednakże na londyńczyka. Nie widziano go nigdy ani na giełdzie, ani w banku, ani w żadnym kantorze w City. Nigdy na kanałach lub portach londyńskich nie ukazały się jego statki. Człowiek ten nie należał do żadnego komitetu administracyjnego; nie był ani kupcem, ani przemysłowcem, an"
          ],
          "name": "stdout"
        }
      ]
    },
    {
      "cell_type": "markdown",
      "metadata": {
        "id": "Olk2rJixqkQ0"
      },
      "source": [
        "Książka to \"*W 80 dni dookoła świata*\" Juliusza Vergne"
      ]
    }
  ]
}